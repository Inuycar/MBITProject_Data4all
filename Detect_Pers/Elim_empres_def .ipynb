{
 "cells": [
  {
   "cell_type": "code",
   "execution_count": 1,
   "metadata": {
    "collapsed": true
   },
   "outputs": [],
   "source": [
    "import numpy as np\n",
    "import pandas as pd\n",
    "from pymongo import MongoClient\n",
    "import string\n",
    "import re\n",
    "import nltk\n",
    "from nltk.tokenize import TweetTokenizer\n",
    "import pprint\n",
    "from pandas.io.json import json_normalize\n",
    "import unicodedata\n",
    "from pandas import ExcelWriter #para exportar a excel\n",
    "from datetime import datetime\n",
    "from datetime import date, timedelta as td\n"
   ]
  },
  {
   "cell_type": "code",
   "execution_count": 2,
   "metadata": {
    "collapsed": true
   },
   "outputs": [],
   "source": [
    "# Acceder a las colecciones\n",
    "MONGO_HOST= 'mongodb://localhost/tweetsdb'\n",
    "client = MongoClient(MONGO_HOST)\n",
    "db = client.tweetsdb\n",
    "col = db.col_query1_spanish_stream"
   ]
  },
  {
   "cell_type": "code",
   "execution_count": 3,
   "metadata": {
    "collapsed": true
   },
   "outputs": [],
   "source": [
    "# Crear un dataframe con los datos\n",
    "cursor1 = col.find()\n",
    "dataframe = list(cursor1)\n",
    "df = json_normalize(dataframe)"
   ]
  },
  {
   "cell_type": "code",
   "execution_count": 4,
   "metadata": {},
   "outputs": [
    {
     "data": {
      "text/plain": [
       "['_id',\n",
       " 'contributors',\n",
       " 'coordinates',\n",
       " 'coordinates.coordinates',\n",
       " 'coordinates.type',\n",
       " 'created_at',\n",
       " 'display_text_range',\n",
       " 'entities.hashtags',\n",
       " 'entities.media',\n",
       " 'entities.symbols',\n",
       " 'entities.urls',\n",
       " 'entities.user_mentions',\n",
       " 'extended_entities.media',\n",
       " 'extended_tweet.display_text_range',\n",
       " 'extended_tweet.entities.hashtags',\n",
       " 'extended_tweet.entities.media',\n",
       " 'extended_tweet.entities.symbols',\n",
       " 'extended_tweet.entities.urls',\n",
       " 'extended_tweet.entities.user_mentions',\n",
       " 'extended_tweet.extended_entities.media',\n",
       " 'extended_tweet.full_text',\n",
       " 'favorite_count',\n",
       " 'favorited',\n",
       " 'filter_level',\n",
       " 'geo',\n",
       " 'geo.coordinates',\n",
       " 'geo.type',\n",
       " 'id',\n",
       " 'id_str',\n",
       " 'in_reply_to_screen_name',\n",
       " 'in_reply_to_status_id',\n",
       " 'in_reply_to_status_id_str',\n",
       " 'in_reply_to_user_id',\n",
       " 'in_reply_to_user_id_str',\n",
       " 'is_quote_status',\n",
       " 'lang',\n",
       " 'place',\n",
       " 'place.bounding_box.coordinates',\n",
       " 'place.bounding_box.type',\n",
       " 'place.country',\n",
       " 'place.country_code',\n",
       " 'place.full_name',\n",
       " 'place.id',\n",
       " 'place.name',\n",
       " 'place.place_type',\n",
       " 'place.url',\n",
       " 'possibly_sensitive',\n",
       " 'quote_count',\n",
       " 'quoted_status.contributors',\n",
       " 'quoted_status.coordinates',\n",
       " 'quoted_status.coordinates.coordinates',\n",
       " 'quoted_status.coordinates.type',\n",
       " 'quoted_status.created_at',\n",
       " 'quoted_status.display_text_range',\n",
       " 'quoted_status.entities.hashtags',\n",
       " 'quoted_status.entities.media',\n",
       " 'quoted_status.entities.symbols',\n",
       " 'quoted_status.entities.urls',\n",
       " 'quoted_status.entities.user_mentions',\n",
       " 'quoted_status.extended_entities.media',\n",
       " 'quoted_status.extended_tweet.display_text_range',\n",
       " 'quoted_status.extended_tweet.entities.hashtags',\n",
       " 'quoted_status.extended_tweet.entities.media',\n",
       " 'quoted_status.extended_tweet.entities.symbols',\n",
       " 'quoted_status.extended_tweet.entities.urls',\n",
       " 'quoted_status.extended_tweet.entities.user_mentions',\n",
       " 'quoted_status.extended_tweet.extended_entities.media',\n",
       " 'quoted_status.extended_tweet.full_text',\n",
       " 'quoted_status.favorite_count',\n",
       " 'quoted_status.favorited',\n",
       " 'quoted_status.filter_level',\n",
       " 'quoted_status.geo',\n",
       " 'quoted_status.geo.coordinates',\n",
       " 'quoted_status.geo.type',\n",
       " 'quoted_status.id',\n",
       " 'quoted_status.id_str',\n",
       " 'quoted_status.in_reply_to_screen_name',\n",
       " 'quoted_status.in_reply_to_status_id',\n",
       " 'quoted_status.in_reply_to_status_id_str',\n",
       " 'quoted_status.in_reply_to_user_id',\n",
       " 'quoted_status.in_reply_to_user_id_str',\n",
       " 'quoted_status.is_quote_status',\n",
       " 'quoted_status.lang',\n",
       " 'quoted_status.place',\n",
       " 'quoted_status.place.bounding_box.coordinates',\n",
       " 'quoted_status.place.bounding_box.type',\n",
       " 'quoted_status.place.country',\n",
       " 'quoted_status.place.country_code',\n",
       " 'quoted_status.place.full_name',\n",
       " 'quoted_status.place.id',\n",
       " 'quoted_status.place.name',\n",
       " 'quoted_status.place.place_type',\n",
       " 'quoted_status.place.url',\n",
       " 'quoted_status.possibly_sensitive',\n",
       " 'quoted_status.quote_count',\n",
       " 'quoted_status.quoted_status_id',\n",
       " 'quoted_status.quoted_status_id_str',\n",
       " 'quoted_status.reply_count',\n",
       " 'quoted_status.retweet_count',\n",
       " 'quoted_status.retweeted',\n",
       " 'quoted_status.source',\n",
       " 'quoted_status.text',\n",
       " 'quoted_status.truncated',\n",
       " 'quoted_status.user.contributors_enabled',\n",
       " 'quoted_status.user.created_at',\n",
       " 'quoted_status.user.default_profile',\n",
       " 'quoted_status.user.default_profile_image',\n",
       " 'quoted_status.user.description',\n",
       " 'quoted_status.user.favourites_count',\n",
       " 'quoted_status.user.follow_request_sent',\n",
       " 'quoted_status.user.followers_count',\n",
       " 'quoted_status.user.following',\n",
       " 'quoted_status.user.friends_count',\n",
       " 'quoted_status.user.geo_enabled',\n",
       " 'quoted_status.user.id',\n",
       " 'quoted_status.user.id_str',\n",
       " 'quoted_status.user.is_translator',\n",
       " 'quoted_status.user.lang',\n",
       " 'quoted_status.user.listed_count',\n",
       " 'quoted_status.user.location',\n",
       " 'quoted_status.user.name',\n",
       " 'quoted_status.user.notifications',\n",
       " 'quoted_status.user.profile_background_color',\n",
       " 'quoted_status.user.profile_background_image_url',\n",
       " 'quoted_status.user.profile_background_image_url_https',\n",
       " 'quoted_status.user.profile_background_tile',\n",
       " 'quoted_status.user.profile_banner_url',\n",
       " 'quoted_status.user.profile_image_url',\n",
       " 'quoted_status.user.profile_image_url_https',\n",
       " 'quoted_status.user.profile_link_color',\n",
       " 'quoted_status.user.profile_sidebar_border_color',\n",
       " 'quoted_status.user.profile_sidebar_fill_color',\n",
       " 'quoted_status.user.profile_text_color',\n",
       " 'quoted_status.user.profile_use_background_image',\n",
       " 'quoted_status.user.protected',\n",
       " 'quoted_status.user.screen_name',\n",
       " 'quoted_status.user.statuses_count',\n",
       " 'quoted_status.user.time_zone',\n",
       " 'quoted_status.user.translator_type',\n",
       " 'quoted_status.user.url',\n",
       " 'quoted_status.user.utc_offset',\n",
       " 'quoted_status.user.verified',\n",
       " 'quoted_status_id',\n",
       " 'quoted_status_id_str',\n",
       " 'reply_count',\n",
       " 'retweet_count',\n",
       " 'retweeted',\n",
       " 'retweeted_status.contributors',\n",
       " 'retweeted_status.coordinates',\n",
       " 'retweeted_status.coordinates.coordinates',\n",
       " 'retweeted_status.coordinates.type',\n",
       " 'retweeted_status.created_at',\n",
       " 'retweeted_status.display_text_range',\n",
       " 'retweeted_status.entities.hashtags',\n",
       " 'retweeted_status.entities.media',\n",
       " 'retweeted_status.entities.symbols',\n",
       " 'retweeted_status.entities.urls',\n",
       " 'retweeted_status.entities.user_mentions',\n",
       " 'retweeted_status.extended_entities.media',\n",
       " 'retweeted_status.extended_tweet.display_text_range',\n",
       " 'retweeted_status.extended_tweet.entities.hashtags',\n",
       " 'retweeted_status.extended_tweet.entities.media',\n",
       " 'retweeted_status.extended_tweet.entities.symbols',\n",
       " 'retweeted_status.extended_tweet.entities.urls',\n",
       " 'retweeted_status.extended_tweet.entities.user_mentions',\n",
       " 'retweeted_status.extended_tweet.extended_entities.media',\n",
       " 'retweeted_status.extended_tweet.full_text',\n",
       " 'retweeted_status.favorite_count',\n",
       " 'retweeted_status.favorited',\n",
       " 'retweeted_status.filter_level',\n",
       " 'retweeted_status.geo',\n",
       " 'retweeted_status.geo.coordinates',\n",
       " 'retweeted_status.geo.type',\n",
       " 'retweeted_status.id',\n",
       " 'retweeted_status.id_str',\n",
       " 'retweeted_status.in_reply_to_screen_name',\n",
       " 'retweeted_status.in_reply_to_status_id',\n",
       " 'retweeted_status.in_reply_to_status_id_str',\n",
       " 'retweeted_status.in_reply_to_user_id',\n",
       " 'retweeted_status.in_reply_to_user_id_str',\n",
       " 'retweeted_status.is_quote_status',\n",
       " 'retweeted_status.lang',\n",
       " 'retweeted_status.place',\n",
       " 'retweeted_status.place.bounding_box.coordinates',\n",
       " 'retweeted_status.place.bounding_box.type',\n",
       " 'retweeted_status.place.country',\n",
       " 'retweeted_status.place.country_code',\n",
       " 'retweeted_status.place.full_name',\n",
       " 'retweeted_status.place.id',\n",
       " 'retweeted_status.place.name',\n",
       " 'retweeted_status.place.place_type',\n",
       " 'retweeted_status.place.url',\n",
       " 'retweeted_status.possibly_sensitive',\n",
       " 'retweeted_status.quote_count',\n",
       " 'retweeted_status.quoted_status.contributors',\n",
       " 'retweeted_status.quoted_status.coordinates',\n",
       " 'retweeted_status.quoted_status.created_at',\n",
       " 'retweeted_status.quoted_status.display_text_range',\n",
       " 'retweeted_status.quoted_status.entities.hashtags',\n",
       " 'retweeted_status.quoted_status.entities.media',\n",
       " 'retweeted_status.quoted_status.entities.symbols',\n",
       " 'retweeted_status.quoted_status.entities.urls',\n",
       " 'retweeted_status.quoted_status.entities.user_mentions',\n",
       " 'retweeted_status.quoted_status.extended_entities.media',\n",
       " 'retweeted_status.quoted_status.extended_tweet.display_text_range',\n",
       " 'retweeted_status.quoted_status.extended_tweet.entities.hashtags',\n",
       " 'retweeted_status.quoted_status.extended_tweet.entities.media',\n",
       " 'retweeted_status.quoted_status.extended_tweet.entities.symbols',\n",
       " 'retweeted_status.quoted_status.extended_tweet.entities.urls',\n",
       " 'retweeted_status.quoted_status.extended_tweet.entities.user_mentions',\n",
       " 'retweeted_status.quoted_status.extended_tweet.extended_entities.media',\n",
       " 'retweeted_status.quoted_status.extended_tweet.full_text',\n",
       " 'retweeted_status.quoted_status.favorite_count',\n",
       " 'retweeted_status.quoted_status.favorited',\n",
       " 'retweeted_status.quoted_status.filter_level',\n",
       " 'retweeted_status.quoted_status.geo',\n",
       " 'retweeted_status.quoted_status.id',\n",
       " 'retweeted_status.quoted_status.id_str',\n",
       " 'retweeted_status.quoted_status.in_reply_to_screen_name',\n",
       " 'retweeted_status.quoted_status.in_reply_to_status_id',\n",
       " 'retweeted_status.quoted_status.in_reply_to_status_id_str',\n",
       " 'retweeted_status.quoted_status.in_reply_to_user_id',\n",
       " 'retweeted_status.quoted_status.in_reply_to_user_id_str',\n",
       " 'retweeted_status.quoted_status.is_quote_status',\n",
       " 'retweeted_status.quoted_status.lang',\n",
       " 'retweeted_status.quoted_status.place',\n",
       " 'retweeted_status.quoted_status.place.bounding_box.coordinates',\n",
       " 'retweeted_status.quoted_status.place.bounding_box.type',\n",
       " 'retweeted_status.quoted_status.place.country',\n",
       " 'retweeted_status.quoted_status.place.country_code',\n",
       " 'retweeted_status.quoted_status.place.full_name',\n",
       " 'retweeted_status.quoted_status.place.id',\n",
       " 'retweeted_status.quoted_status.place.name',\n",
       " 'retweeted_status.quoted_status.place.place_type',\n",
       " 'retweeted_status.quoted_status.place.url',\n",
       " 'retweeted_status.quoted_status.possibly_sensitive',\n",
       " 'retweeted_status.quoted_status.quote_count',\n",
       " 'retweeted_status.quoted_status.quoted_status_id',\n",
       " 'retweeted_status.quoted_status.quoted_status_id_str',\n",
       " 'retweeted_status.quoted_status.reply_count',\n",
       " 'retweeted_status.quoted_status.retweet_count',\n",
       " 'retweeted_status.quoted_status.retweeted',\n",
       " 'retweeted_status.quoted_status.source',\n",
       " 'retweeted_status.quoted_status.text',\n",
       " 'retweeted_status.quoted_status.truncated',\n",
       " 'retweeted_status.quoted_status.user.contributors_enabled',\n",
       " 'retweeted_status.quoted_status.user.created_at',\n",
       " 'retweeted_status.quoted_status.user.default_profile',\n",
       " 'retweeted_status.quoted_status.user.default_profile_image',\n",
       " 'retweeted_status.quoted_status.user.description',\n",
       " 'retweeted_status.quoted_status.user.favourites_count',\n",
       " 'retweeted_status.quoted_status.user.follow_request_sent',\n",
       " 'retweeted_status.quoted_status.user.followers_count',\n",
       " 'retweeted_status.quoted_status.user.following',\n",
       " 'retweeted_status.quoted_status.user.friends_count',\n",
       " 'retweeted_status.quoted_status.user.geo_enabled',\n",
       " 'retweeted_status.quoted_status.user.id',\n",
       " 'retweeted_status.quoted_status.user.id_str',\n",
       " 'retweeted_status.quoted_status.user.is_translator',\n",
       " 'retweeted_status.quoted_status.user.lang',\n",
       " 'retweeted_status.quoted_status.user.listed_count',\n",
       " 'retweeted_status.quoted_status.user.location',\n",
       " 'retweeted_status.quoted_status.user.name',\n",
       " 'retweeted_status.quoted_status.user.notifications',\n",
       " 'retweeted_status.quoted_status.user.profile_background_color',\n",
       " 'retweeted_status.quoted_status.user.profile_background_image_url',\n",
       " 'retweeted_status.quoted_status.user.profile_background_image_url_https',\n",
       " 'retweeted_status.quoted_status.user.profile_background_tile',\n",
       " 'retweeted_status.quoted_status.user.profile_banner_url',\n",
       " 'retweeted_status.quoted_status.user.profile_image_url',\n",
       " 'retweeted_status.quoted_status.user.profile_image_url_https',\n",
       " 'retweeted_status.quoted_status.user.profile_link_color',\n",
       " 'retweeted_status.quoted_status.user.profile_sidebar_border_color',\n",
       " 'retweeted_status.quoted_status.user.profile_sidebar_fill_color',\n",
       " 'retweeted_status.quoted_status.user.profile_text_color',\n",
       " 'retweeted_status.quoted_status.user.profile_use_background_image',\n",
       " 'retweeted_status.quoted_status.user.protected',\n",
       " 'retweeted_status.quoted_status.user.screen_name',\n",
       " 'retweeted_status.quoted_status.user.statuses_count',\n",
       " 'retweeted_status.quoted_status.user.time_zone',\n",
       " 'retweeted_status.quoted_status.user.translator_type',\n",
       " 'retweeted_status.quoted_status.user.url',\n",
       " 'retweeted_status.quoted_status.user.utc_offset',\n",
       " 'retweeted_status.quoted_status.user.verified',\n",
       " 'retweeted_status.quoted_status_id',\n",
       " 'retweeted_status.quoted_status_id_str',\n",
       " 'retweeted_status.reply_count',\n",
       " 'retweeted_status.retweet_count',\n",
       " 'retweeted_status.retweeted',\n",
       " 'retweeted_status.source',\n",
       " 'retweeted_status.text',\n",
       " 'retweeted_status.truncated',\n",
       " 'retweeted_status.user.contributors_enabled',\n",
       " 'retweeted_status.user.created_at',\n",
       " 'retweeted_status.user.default_profile',\n",
       " 'retweeted_status.user.default_profile_image',\n",
       " 'retweeted_status.user.description',\n",
       " 'retweeted_status.user.favourites_count',\n",
       " 'retweeted_status.user.follow_request_sent',\n",
       " 'retweeted_status.user.followers_count',\n",
       " 'retweeted_status.user.following',\n",
       " 'retweeted_status.user.friends_count',\n",
       " 'retweeted_status.user.geo_enabled',\n",
       " 'retweeted_status.user.id',\n",
       " 'retweeted_status.user.id_str',\n",
       " 'retweeted_status.user.is_translator',\n",
       " 'retweeted_status.user.lang',\n",
       " 'retweeted_status.user.listed_count',\n",
       " 'retweeted_status.user.location',\n",
       " 'retweeted_status.user.name',\n",
       " 'retweeted_status.user.notifications',\n",
       " 'retweeted_status.user.profile_background_color',\n",
       " 'retweeted_status.user.profile_background_image_url',\n",
       " 'retweeted_status.user.profile_background_image_url_https',\n",
       " 'retweeted_status.user.profile_background_tile',\n",
       " 'retweeted_status.user.profile_banner_url',\n",
       " 'retweeted_status.user.profile_image_url',\n",
       " 'retweeted_status.user.profile_image_url_https',\n",
       " 'retweeted_status.user.profile_link_color',\n",
       " 'retweeted_status.user.profile_sidebar_border_color',\n",
       " 'retweeted_status.user.profile_sidebar_fill_color',\n",
       " 'retweeted_status.user.profile_text_color',\n",
       " 'retweeted_status.user.profile_use_background_image',\n",
       " 'retweeted_status.user.protected',\n",
       " 'retweeted_status.user.screen_name',\n",
       " 'retweeted_status.user.statuses_count',\n",
       " 'retweeted_status.user.time_zone',\n",
       " 'retweeted_status.user.translator_type',\n",
       " 'retweeted_status.user.url',\n",
       " 'retweeted_status.user.utc_offset',\n",
       " 'retweeted_status.user.verified',\n",
       " 'source',\n",
       " 'text',\n",
       " 'timestamp_ms',\n",
       " 'truncated',\n",
       " 'user.contributors_enabled',\n",
       " 'user.created_at',\n",
       " 'user.default_profile',\n",
       " 'user.default_profile_image',\n",
       " 'user.description',\n",
       " 'user.favourites_count',\n",
       " 'user.follow_request_sent',\n",
       " 'user.followers_count',\n",
       " 'user.following',\n",
       " 'user.friends_count',\n",
       " 'user.geo_enabled',\n",
       " 'user.id',\n",
       " 'user.id_str',\n",
       " 'user.is_translator',\n",
       " 'user.lang',\n",
       " 'user.listed_count',\n",
       " 'user.location',\n",
       " 'user.name',\n",
       " 'user.notifications',\n",
       " 'user.profile_background_color',\n",
       " 'user.profile_background_image_url',\n",
       " 'user.profile_background_image_url_https',\n",
       " 'user.profile_background_tile',\n",
       " 'user.profile_banner_url',\n",
       " 'user.profile_image_url',\n",
       " 'user.profile_image_url_https',\n",
       " 'user.profile_link_color',\n",
       " 'user.profile_sidebar_border_color',\n",
       " 'user.profile_sidebar_fill_color',\n",
       " 'user.profile_text_color',\n",
       " 'user.profile_use_background_image',\n",
       " 'user.protected',\n",
       " 'user.screen_name',\n",
       " 'user.statuses_count',\n",
       " 'user.time_zone',\n",
       " 'user.translator_type',\n",
       " 'user.url',\n",
       " 'user.utc_offset',\n",
       " 'user.verified']"
      ]
     },
     "execution_count": 4,
     "metadata": {},
     "output_type": "execute_result"
    }
   ],
   "source": [
    "list(df.columns.values)"
   ]
  },
  {
   "cell_type": "code",
   "execution_count": 5,
   "metadata": {
    "collapsed": true
   },
   "outputs": [],
   "source": [
    "# Me quedo solo con algunos campos\n",
    "df1=df.drop(df.columns.difference(['_id','source','user.description','user.id','user.name',\n",
    "                                   'user.url','text','user.created_at','user.statuses_count']),1)"
   ]
  },
  {
   "cell_type": "code",
   "execution_count": 6,
   "metadata": {
    "collapsed": true
   },
   "outputs": [],
   "source": [
    "# Convierte texto a minúsculas, tokeniza, quita acentos y \"ñ\"\n",
    "def remove_accents(input_str):\n",
    "    try:\n",
    "        nfkd_form = unicodedata.normalize('NFKD', str(input_str))\n",
    "        only_ascii = nfkd_form.encode('ascii', errors='ignore').decode('utf-8').replace(u'\\xf1', 'n')\n",
    "        text = only_ascii.lower()\n",
    "    except NameError:\n",
    "        pass\n",
    "        \n",
    "    return text"
   ]
  },
  {
   "cell_type": "code",
   "execution_count": 7,
   "metadata": {
    "collapsed": true
   },
   "outputs": [],
   "source": [
    "# Obtener el nombre del orígen de los tweets\n",
    "def get_source_name(x):\n",
    "    value = re.findall(pattern=\"<[^>]+>([^<]+)</a>\", string=x)\n",
    "    if len(value) > 0:\n",
    "        return value[0]\n",
    "    else:\n",
    "        return \"\""
   ]
  },
  {
   "cell_type": "code",
   "execution_count": 8,
   "metadata": {
    "collapsed": true
   },
   "outputs": [],
   "source": [
    "# Nueva columna con el nombre del orígen\n",
    "df1[\"Source_name\"] = df1[\"source\"].apply(get_source_name)"
   ]
  },
  {
   "cell_type": "code",
   "execution_count": 9,
   "metadata": {
    "collapsed": true
   },
   "outputs": [],
   "source": [
    "# Convierto el texto del campo Source_name\n",
    "df1.loc[:, 'Source_name'] = df1['Source_name'].apply(remove_accents)"
   ]
  },
  {
   "cell_type": "code",
   "execution_count": 10,
   "metadata": {
    "collapsed": true
   },
   "outputs": [],
   "source": [
    "# Convierto el texto del campo user.name \n",
    "df1.loc[:, 'user.name'] = df1['user.name'].apply(remove_accents)"
   ]
  },
  {
   "cell_type": "code",
   "execution_count": 11,
   "metadata": {
    "collapsed": true
   },
   "outputs": [],
   "source": [
    "# Convierto el texto del campo user.description \n",
    "df1.loc[:, 'user.description'] = df1['user.description'].apply(remove_accents)"
   ]
  },
  {
   "cell_type": "code",
   "execution_count": 12,
   "metadata": {
    "collapsed": true
   },
   "outputs": [],
   "source": [
    "# Elimino duplicados de usuarios (user.id) siempre y cuando tengan los campos seleccionados en subset iguales\n",
    "df1 = df1.drop_duplicates(subset=(\"user.id\",\"user.description\",\"user.name\",\"Source_name\"))"
   ]
  },
  {
   "cell_type": "code",
   "execution_count": 13,
   "metadata": {
    "collapsed": true
   },
   "outputs": [],
   "source": [
    "# Lista de herramientas o dispositivos para utomatizar tareas \n",
    "HH_device = ['ifttt','roundteam','botize',\"statistics for it\", \"koica retweeter\",\"tweet old post\",\"powerapps and flow\",\"voicestorm\"]"
   ]
  },
  {
   "cell_type": "code",
   "execution_count": 14,
   "metadata": {
    "collapsed": true
   },
   "outputs": [],
   "source": [
    "df1[\"User_type_source\"] = np.where((df1['Source_name'].isin(HH_device)), 1,0)"
   ]
  },
  {
   "cell_type": "code",
   "execution_count": 15,
   "metadata": {
    "collapsed": true
   },
   "outputs": [],
   "source": [
    "# Lista con nombres y apellidos de personas en español e ingles\n",
    "nombres = [line.strip() for line in open('nombres.txt', 'r')]"
   ]
  },
  {
   "cell_type": "code",
   "execution_count": 16,
   "metadata": {
    "collapsed": true
   },
   "outputs": [],
   "source": [
    "pat = '|'.join([r'\\b{}\\b'.format(x) for x in nombres]) # patrón para chequear en el user.name las coincidencias con los nombres de personas"
   ]
  },
  {
   "cell_type": "code",
   "execution_count": 17,
   "metadata": {
    "collapsed": true
   },
   "outputs": [],
   "source": [
    "# Cuenta el total de palabras coincidentes con los nombres incluidos en la lista nombres \n",
    "def word_count(text):\n",
    "    word_count = 0\n",
    "    for word in text.split():\n",
    "        if word in nombres:\n",
    "            word_count += 1\n",
    "        else:\n",
    "            word_count\n",
    "    return word_count"
   ]
  },
  {
   "cell_type": "code",
   "execution_count": 18,
   "metadata": {
    "collapsed": true
   },
   "outputs": [],
   "source": [
    "def to_str(s):\n",
    "    if s is None:\n",
    "        return ''\n",
    "    return str(s)"
   ]
  },
  {
   "cell_type": "code",
   "execution_count": 19,
   "metadata": {},
   "outputs": [],
   "source": [
    "df1['Check_bot'] = (df1['Source_name'].str.contains(\"bot\")|df1['user.name'].str.contains(\"bot\")).astype(int)"
   ]
  },
  {
   "cell_type": "code",
   "execution_count": 20,
   "metadata": {
    "collapsed": true
   },
   "outputs": [],
   "source": [
    "from datetime import datetime\n",
    "import re\n",
    "\n",
    "#remove milliseconds\n",
    "remove_ms = lambda x:re.sub(\"\\+\\d+\\s\",\"\" , x)\n",
    "\n",
    "#make string into a dataframe\n",
    "mk_df = lambda x:datetime.strptime(remove_ms(x), \"%a %b %d %H:%M:%S %Y\")\n",
    "\n",
    "# Format datetime object\n",
    "my_form = lambda x:\"{:%Y-%m-%d}\".format(mk_df(x))"
   ]
  },
  {
   "cell_type": "code",
   "execution_count": 21,
   "metadata": {
    "collapsed": true
   },
   "outputs": [],
   "source": [
    "# Obtener el numero de dias de antiguedad de la cuenta y poder dividirla por el numero de tweets obteniendo así la frecuencia.\n",
    "\n",
    "df1[\"user.created_at\"] = df1[\"user.created_at\"].apply(my_form)\n",
    "df1[\"user.created_at\"]= pd.to_datetime(df1[\"user.created_at\"])\n",
    "df1['user_days'] =  pd.datetime.now().date()-df1[\"user.created_at\"] \n",
    "df1['user_days']= df1['user_days'].dt.days\n"
   ]
  },
  {
   "cell_type": "code",
   "execution_count": 22,
   "metadata": {
    "collapsed": true
   },
   "outputs": [],
   "source": [
    "# Frecuencia de publicacion\n",
    "df1['tweets/day'] = round(df1[\"user.statuses_count\"]/df1['user_days'],2)"
   ]
  },
  {
   "cell_type": "code",
   "execution_count": 23,
   "metadata": {},
   "outputs": [],
   "source": [
    "df1['user.url'] = df1['user.url'].apply(to_str)"
   ]
  },
  {
   "cell_type": "code",
   "execution_count": 24,
   "metadata": {
    "collapsed": true
   },
   "outputs": [],
   "source": [
    "patron_4 = ('|'.join(['linked']))"
   ]
  },
  {
   "cell_type": "code",
   "execution_count": 25,
   "metadata": {
    "collapsed": true
   },
   "outputs": [],
   "source": [
    "df1[\"Check_url\"] = df1['user.url'].str.contains(patron_4).astype(int)"
   ]
  },
  {
   "cell_type": "code",
   "execution_count": 26,
   "metadata": {
    "collapsed": true
   },
   "outputs": [],
   "source": [
    "# % de palabras incluidas en user.name que coinciden con la lista de nombres y apellidos en español e ingles\n",
    "df1['Check_user name'] = (df1['user.name'].apply(word_count))*100/(df1['user.name'].str.split().str.len())"
   ]
  },
  {
   "cell_type": "code",
   "execution_count": 27,
   "metadata": {
    "collapsed": true
   },
   "outputs": [],
   "source": [
    "# Lista de palabras que puede aparecer en la descripción si se trata de una persona\n",
    "persona = ['emprendedor','persona', 'licenciado', 'ingeniero','freelance','licenciada','ingeniera','padre','madre','estudiante','consultor','director','directora',\n",
    "          'person', 'graduated', 'engineer', 'father', 'mother', 'student', 'consultant', 'director']"
   ]
  },
  {
   "cell_type": "code",
   "execution_count": 28,
   "metadata": {
    "collapsed": true
   },
   "outputs": [],
   "source": [
    "# Lista de palabras que no deberían aparecer en la descripción si se trata de una persona\n",
    "no_persona = [line.strip() for line in open('term_emp.txt', 'r')]"
   ]
  },
  {
   "cell_type": "code",
   "execution_count": 29,
   "metadata": {
    "collapsed": true
   },
   "outputs": [],
   "source": [
    "# patrón de búsqueda de las palabras incluidas en la lista persona y en la de no_persona\n",
    "patron_2 = '|'.join([r'\\b{}\\b'.format(x) for x in persona]) \n",
    "patron_3 = '|'.join([r'\\b{}\\b'.format(x) for x in no_persona]) "
   ]
  },
  {
   "cell_type": "code",
   "execution_count": 30,
   "metadata": {
    "collapsed": true
   },
   "outputs": [],
   "source": [
    "# Incluir una nueva columna con valor 1 si la columna user.description contiene alguna de las palabras en la lista persona\n",
    "df1[\"Check_descrip_1\"] = (df1['user.description'].str.contains(patron_2)|(~df1['user.description'].str.contains(patron_3))|(~df1['user.name'].str.contains(patron_3))).astype(int)"
   ]
  },
  {
   "cell_type": "code",
   "execution_count": 32,
   "metadata": {},
   "outputs": [],
   "source": [
    "# Variable con la condicion para asignar cada tweet a una persona o a una empresa\n",
    "\n",
    "cond= (( (df1[\"Check_descrip_1\"] == 1) & (df1['Check_user name'] >= 30) & (df1['tweets/day'] <= 350 ) & (df1[\"User_type_source\"] != 1) & (df1['Check_bot'] != 1 ) )|(df1['Check_url'] == 1))\n"
   ]
  },
  {
   "cell_type": "code",
   "execution_count": 33,
   "metadata": {
    "collapsed": true
   },
   "outputs": [],
   "source": [
    "# Asignar a la columna es_persona 1 con la condicion anterior\n",
    "df1['Es_persona']=cond.astype(int)"
   ]
  },
  {
   "cell_type": "code",
   "execution_count": 34,
   "metadata": {
    "collapsed": true
   },
   "outputs": [],
   "source": [
    "#df1[:20]"
   ]
  },
  {
   "cell_type": "code",
   "execution_count": 35,
   "metadata": {
    "collapsed": true
   },
   "outputs": [],
   "source": [
    "#df1.applymap(type) # comprobar tipos"
   ]
  },
  {
   "cell_type": "code",
   "execution_count": 36,
   "metadata": {
    "collapsed": true
   },
   "outputs": [],
   "source": [
    "df1['_id'] = df1['_id'].astype(str) # cambiar el tipo de la columna para poder exportar a excel"
   ]
  },
  {
   "cell_type": "code",
   "execution_count": 37,
   "metadata": {
    "collapsed": true
   },
   "outputs": [],
   "source": [
    "#df1.applymap(type) # comprobar tipos"
   ]
  },
  {
   "cell_type": "code",
   "execution_count": 38,
   "metadata": {
    "collapsed": true
   },
   "outputs": [],
   "source": [
    "writer = pd.ExcelWriter('/Users/Silvia/Filtro_pers_30_01.xlsx', engine='xlsxwriter')\n",
    "df1.to_excel(writer,'Sheet1')\n",
    "writer.save()"
   ]
  },
  {
   "cell_type": "code",
   "execution_count": null,
   "metadata": {
    "collapsed": true
   },
   "outputs": [],
   "source": []
  }
 ],
 "metadata": {
  "kernelspec": {
   "display_name": "Python 3",
   "language": "python",
   "name": "python3"
  },
  "language_info": {
   "codemirror_mode": {
    "name": "ipython",
    "version": 3
   },
   "file_extension": ".py",
   "mimetype": "text/x-python",
   "name": "python",
   "nbconvert_exporter": "python",
   "pygments_lexer": "ipython3",
   "version": "3.6.2"
  }
 },
 "nbformat": 4,
 "nbformat_minor": 2
}
